{
  "nbformat": 4,
  "nbformat_minor": 0,
  "metadata": {
    "colab": {
      "provenance": [],
      "include_colab_link": true
    },
    "kernelspec": {
      "name": "python3",
      "display_name": "Python 3"
    },
    "language_info": {
      "name": "python"
    }
  },
  "cells": [
    {
      "cell_type": "markdown",
      "metadata": {
        "id": "view-in-github",
        "colab_type": "text"
      },
      "source": [
        "<a href=\"https://colab.research.google.com/github/littlefox5678901234/ai-session/blob/main/AI_Lab_Internal.ipynb\" target=\"_parent\"><img src=\"https://colab.research.google.com/assets/colab-badge.svg\" alt=\"Open In Colab\"/></a>"
      ]
    },
    {
      "cell_type": "markdown",
      "source": [
        "The code uses the A* algorithm to find the shortest path between a start point and a goal point on a 2D grid with obstacles. Here are the steps in the code:\n",
        "\n",
        "1) Import the PriorityQueue class from the queue module.\n",
        "\n",
        "2) Define the heuristic function that estimates the distance from a given point to the goal point.\n",
        "\n",
        "3) Define the astar function that takes in the start point, goal point, and the obstacles on the grid as parameters.\n",
        "\n",
        "4) Initialize a set called visited to keep track of the points that have already been explored and a priority queue called frontier to keep track of the points to explore.\n",
        "\n",
        "5) Add the start point to the frontier with its f-value (the sum of the g-value and the heuristic value), an empty path, and a g-value of 0.\n",
        "While the frontier is not empty:\n",
        "\n",
        "a. Get the point with the lowest f-value from the frontier.\n",
        "\n",
        "b. If this point is the goal point, return the path to reach it.\n",
        "\n",
        "c. If the point is an obstacle or has already been visited, skip it and continue with the next point.\n",
        "\n",
        "d. Mark the point as visited.\n",
        "\n",
        "e. Add the neighboring points to the frontier with updated path and g-values.\n",
        "\n",
        "6) Return None if no path is found."
      ],
      "metadata": {
        "id": "MyxS0pi0-7ky"
      }
    },
    {
      "cell_type": "code",
      "execution_count": null,
      "metadata": {
        "colab": {
          "base_uri": "https://localhost:8080/"
        },
        "id": "pMYjb9mFRiDK",
        "outputId": "00fadc9e-405e-48e1-f0f2-1d92c3fb32ae"
      },
      "outputs": [
        {
          "output_type": "stream",
          "name": "stdout",
          "text": [
            "Shortest path: [(0, 0), (0, 1), (0, 2), (0, 3), (0, 4), (1, 4), (2, 4), (3, 4), (4, 4)]\n"
          ]
        }
      ],
      "source": [
        "#Implement the A* Algorithm to find the shortest path between 2 points on a 2D grid with obstacles\n",
        "\n",
        "from queue import PriorityQueue\n",
        "def heuristic(point, goal):\n",
        "  return abs(point[0] - goal[0]) + abs(point[1] - goal[1])\n",
        "def astar(start, goal, obstacles):\n",
        "    \"\"\"\n",
        "    Returns the shortest path between start and goal on a 2D grid with obstacles using the A* algorithm.\n",
        "    \"\"\"\n",
        "    # Define a heuristic function that estimates the distance from any point to the goal\n",
        "    \n",
        "\n",
        "    # Initialize the set of visited points and the priority queue of points to explore\n",
        "    visited = set()\n",
        "    frontier = PriorityQueue()\n",
        "    frontier.put((heuristic(start, goal), start, [], 0))\n",
        "\n",
        "    # Explore the frontier until the goal is reached or no more points can be explored\n",
        "    while not frontier.empty():\n",
        "        # Get the next point to explore\n",
        "        f_value, current, path, g_value = frontier.get()\n",
        "\n",
        "        # Check if the goal has been reached\n",
        "        if current == goal:\n",
        "            return path + [current]\n",
        "\n",
        "        # Check if the current point is an obstacle or has already been visited\n",
        "        if current in visited or current in obstacles:\n",
        "            continue\n",
        "\n",
        "        # Mark the current point as visited\n",
        "        visited.add(current)\n",
        "\n",
        "        # Add the neighbors of the current point to the frontier\n",
        "        for dx, dy in [(0, -1), (0, 1), (-1, 0), (1, 0)]:\n",
        "            neighbor = (current[0] + dx, current[1] + dy)\n",
        "            new_g_value = g_value + 1\n",
        "            if neighbor not in visited:\n",
        "                frontier.put((new_g_value + heuristic(neighbor, goal), neighbor, path + [current], new_g_value))\n",
        "\n",
        "    # Return None if no path is found\n",
        "    return None\n",
        "# Define the start and goal points and the set of obstacles\n",
        "start = (0, 0)\n",
        "goal = (4, 4)\n",
        "obstacles = [(1, 2), (2, 2), (3, 2), (3, 3)]\n",
        "\n",
        "# Find the shortest path using the A* algorithm\n",
        "path = astar(start, goal, obstacles)\n",
        "\n",
        "# Print the path\n",
        "if path is None:\n",
        "    print(\"No path found.\")\n",
        "else:\n",
        "    print(\"Shortest path:\", path)"
      ]
    },
    {
      "cell_type": "code",
      "source": [
        "#Dijkstra's Algorithm to find the shortest path between 2 points on a 2D grid with obstacles\n",
        "from heapq import heappop, heappush\n",
        "\n",
        "def dijkstra(start, goal, obstacles, m, n):\n",
        "    grid = [(i, j) for i in range(m) for j in range(n)]\n",
        "    start_index = grid.index(start)\n",
        "    goal_indices = goal\n",
        "    \n",
        "    heap = [(0, start_index, [])]\n",
        "    visited = set()\n",
        "    distances = {start_index: 0}\n",
        "    \n",
        "    while heap:\n",
        "        (d, curr, path) = heappop(heap)\n",
        "        if curr in visited:\n",
        "            continue\n",
        "        visited.add(curr)\n",
        "        if (curr//m, curr%n) == goal:\n",
        "            return distances[curr], path + [(curr//m, curr%n)]\n",
        "        for neighbor in get_neighbors(curr, grid, obstacles, m, n):\n",
        "            if neighbor in visited:\n",
        "                continue\n",
        "            new_distance = distances[curr] + 1  # assuming all edges have weight 1\n",
        "            if neighbor not in distances.keys() or new_distance < distances[neighbor]:\n",
        "                distances[neighbor] = new_distance\n",
        "                heappush(heap, (new_distance, neighbor, path + [(curr//m, curr%n)]))\n",
        "    return None, None\n",
        "\n",
        "def get_neighbors(curr, grid, obstacles, m, n):\n",
        "    neighbors = []\n",
        "    for dx, dy in [(0, 1), (1, 0), (0, -1), (-1, 0)]:\n",
        "        x, y = grid[curr][0] + dx, grid[curr][1] + dy\n",
        "        if x < 0 or x >= m or y < 0 or y >= n:\n",
        "            continue\n",
        "        if (x, y) in obstacles:\n",
        "            continue\n",
        "        neighbors.append(grid.index((x, y)))\n",
        "    return neighbors\n",
        "\n",
        "# Define the start node, goal nodes, and obstacles\n",
        "start = (0, 0)\n",
        "goals = (3, 3)\n",
        "obstacles = []\n",
        "m = 4\n",
        "n = 4\n",
        "\n",
        "# Run Dijkstra's algorithm\n",
        "dist, path = dijkstra(start, goals, obstacles, m, n)\n",
        "\n",
        "# Print the result\n",
        "if dist is not None:\n",
        "    print(f\"The shortest path from {start} to {goals} is {dist} steps. The path is {path}\")\n",
        "else:\n",
        "    print(\"There is no path from the start node to any of the goal nodes.\")\n"
      ],
      "metadata": {
        "colab": {
          "base_uri": "https://localhost:8080/"
        },
        "id": "O_hUB2pHWNQb",
        "outputId": "6c26d56c-eca4-4420-8f8a-7abd1211869e"
      },
      "execution_count": null,
      "outputs": [
        {
          "output_type": "stream",
          "name": "stdout",
          "text": [
            "The shortest path from (0, 0) to (3, 3) is 6 steps. The path is [(0, 0), (0, 1), (0, 2), (0, 3), (1, 3), (2, 3), (3, 3)]\n"
          ]
        }
      ]
    },
    {
      "cell_type": "code",
      "source": [
        "#Recording times taken to run A* on the 2D grid while uniformly varying grid size\n",
        "import time\n",
        "times=[]\n",
        "for i in range(60):\n",
        "  start = time.time()\n",
        "  astar((0,0), (i,i), [])\n",
        "  end = time.time()\n",
        "  times.append(end-start)\n",
        "print(times)"
      ],
      "metadata": {
        "colab": {
          "base_uri": "https://localhost:8080/"
        },
        "id": "Z3hRSN16amiZ",
        "outputId": "aff73094-26cc-4835-ecb0-1842ffbde1eb"
      },
      "execution_count": null,
      "outputs": [
        {
          "output_type": "stream",
          "name": "stdout",
          "text": [
            "[7.104873657226562e-05, 9.560585021972656e-05, 0.00018548965454101562, 0.00032019615173339844, 0.0005145072937011719, 0.0007455348968505859, 0.000993490219116211, 0.002356290817260742, 0.0016820430755615234, 0.0020651817321777344, 0.006617546081542969, 0.0030014514923095703, 0.0035026073455810547, 0.008675336837768555, 0.004861116409301758, 0.005401134490966797, 0.0062634944915771484, 0.006893157958984375, 0.008358955383300781, 0.008827924728393555, 0.010068893432617188, 0.011027812957763672, 0.011646747589111328, 0.012610197067260742, 0.013443946838378906, 0.016542434692382812, 0.01647472381591797, 0.017716169357299805, 0.01840829849243164, 0.020115375518798828, 0.020951032638549805, 0.025582075119018555, 0.024633407592773438, 0.026372909545898438, 0.026763916015625, 0.028803110122680664, 0.030308246612548828, 0.0319976806640625, 0.03377032279968262, 0.03607988357543945, 0.03740119934082031, 0.04382491111755371, 0.04089665412902832, 0.04291820526123047, 0.04574084281921387, 0.049250125885009766, 0.052870750427246094, 0.05611896514892578, 0.059676170349121094, 0.061751365661621094, 0.061179399490356445, 0.06642675399780273, 0.06838607788085938, 0.07241106033325195, 0.07209444046020508, 0.08333635330200195, 0.08674979209899902, 0.07637786865234375, 0.07918739318847656, 0.08424735069274902]\n"
          ]
        }
      ]
    },
    {
      "cell_type": "code",
      "source": [
        "#Recording times taken to run Dijkstra's Algorithm on the 2D grid while uniformly varying grid size\n",
        "import time\n",
        "times1=[]\n",
        "for i in range(60):\n",
        "  start = time.time()\n",
        "  dijkstra((0,0), (i,i), [],i+1,i+1)\n",
        "  end = time.time()\n",
        "  times1.append(end-start)\n",
        "print(times1)"
      ],
      "metadata": {
        "colab": {
          "base_uri": "https://localhost:8080/"
        },
        "id": "FDGTJYDAdHg_",
        "outputId": "56b9e902-d20f-4a78-ec89-25dd336dc244"
      },
      "execution_count": null,
      "outputs": [
        {
          "output_type": "stream",
          "name": "stdout",
          "text": [
            "[1.811981201171875e-05, 3.218650817871094e-05, 6.628036499023438e-05, 0.00010704994201660156, 0.00018072128295898438, 0.0009953975677490234, 0.0003769397735595703, 0.0005831718444824219, 0.0009672641754150391, 0.024907588958740234, 0.0018062591552734375, 0.006893157958984375, 0.005394458770751953, 0.012332916259765625, 0.008365392684936523, 0.0061798095703125, 0.00972604751586914, 0.01140451431274414, 0.012651205062866211, 0.016077756881713867, 0.018657922744750977, 0.01715850830078125, 0.019794464111328125, 0.015165090560913086, 0.017676830291748047, 0.021033287048339844, 0.024349451065063477, 0.02770829200744629, 0.03122687339782715, 0.03521609306335449, 0.04042553901672363, 0.04510307312011719, 0.05338764190673828, 0.0573122501373291, 0.07101845741271973, 0.0719442367553711, 0.08297610282897949, 0.09609150886535645, 0.10378789901733398, 0.11063075065612793, 0.1382460594177246, 0.13142609596252441, 0.14563345909118652, 0.15976858139038086, 0.27063560485839844, 0.22902631759643555, 0.20594310760498047, 0.22767114639282227, 0.23844552040100098, 0.2747776508331299, 0.29952192306518555, 0.31092166900634766, 0.34259676933288574, 0.3677806854248047, 0.3935234546661377, 0.42641425132751465, 0.4452054500579834, 0.47357654571533203, 0.5131165981292725, 0.5543792247772217]\n"
          ]
        }
      ]
    },
    {
      "cell_type": "code",
      "source": [
        "#Plotting and comparing the times taken by A* Algorithm and Dijkstra's Algorithm for uniformly varying grid sizes\n",
        "import matplotlib.pyplot as plt\n",
        "plt.plot(list(range(60)), times, color = \"blue\", label = \"A* Algorithm\")\n",
        "plt.plot(list(range(60)), times1, color = \"red\", label = \"Dijkstra's Algorithm\")\n",
        "plt.legend()\n",
        "plt.xlabel(\"Size of the 2D grid\")\n",
        "plt.ylabel(\"Time taken in seconds\")\n",
        "plt.title(\"Perfomance of A* vs Dijsltra's Algorithm for searching in a 2D grid with obstacles.\")"
      ],
      "metadata": {
        "colab": {
          "base_uri": "https://localhost:8080/",
          "height": 489
        },
        "id": "SqID279rjgcW",
        "outputId": "352e06fc-e700-4253-b120-b0ada5dd64d6"
      },
      "execution_count": null,
      "outputs": [
        {
          "output_type": "execute_result",
          "data": {
            "text/plain": [
              "Text(0.5, 1.0, \"Perfomance of A* vs Dijsltra's Algorithm for searching in a 2D grid with obstacles.\")"
            ]
          },
          "metadata": {},
          "execution_count": 12
        },
        {
          "output_type": "display_data",
          "data": {
            "text/plain": [
              "<Figure size 640x480 with 1 Axes>"
            ],
            "image/png": "[encoded data removed]"
          },
          "metadata": {}
        }
      ]
    },
    {
      "cell_type": "code",
      "source": [
        "#Extending the A* Algorithm to a 3D version of the grid with obstacles\n",
        "from queue import PriorityQueue\n",
        "\n",
        "def astar3D(start, goal, obstacles):\n",
        "    \"\"\"\n",
        "    Returns the shortest path between start and goal on a 2D grid with obstacles using the A* algorithm.\n",
        "    \"\"\"\n",
        "    # Define a heuristic function that estimates the distance from any point to the goal\n",
        "    def heuristic(point):\n",
        "        return abs(point[0] - goal[0]) + abs(point[1] - goal[1]) + abs(point[2] - goal[2])\n",
        "\n",
        "    # Initialize the set of visited points and the priority queue of points to explore\n",
        "    visited = set()\n",
        "    frontier = PriorityQueue()\n",
        "    frontier.put((heuristic(start), start, [], 0))\n",
        "\n",
        "    # Explore the frontier until the goal is reached or no more points can be explored\n",
        "    while not frontier.empty():\n",
        "        # Get the next point to explore\n",
        "        f_value, current, path, g_value = frontier.get()\n",
        "\n",
        "        # Check if the goal has been reached\n",
        "        if current == goal:\n",
        "            return path + [current]\n",
        "\n",
        "        # Check if the current point is an obstacle or has already been visited\n",
        "        if current in visited or current in obstacles:\n",
        "            continue\n",
        "\n",
        "        # Mark the current point as visited\n",
        "        visited.add(current)\n",
        "\n",
        "        # Add the neighbors of the current point to the frontier\n",
        "        for dx, dy, dz in [(0, 0, -1), (0, 0, 1), (0, -1, 0), (0, 1, 0),(1, 0, 0), (-1, 0, 0)]:\n",
        "            neighbor = (current[0] + dx, current[1] + dy, current[2] + dz)\n",
        "            new_g_value = g_value + 1\n",
        "            if neighbor not in visited:\n",
        "                frontier.put((new_g_value + heuristic(neighbor), neighbor, path + [current], new_g_value))\n",
        "\n",
        "    # Return None if no path is found\n",
        "    return None\n",
        "# Define the start and goal points and the set of obstacles\n",
        "start = (0, 0, 0)\n",
        "goal = (4, 4, 4)\n",
        "obstacles = [(1, 2, 1), (2, 2, 2), (3, 2, 3), (3, 3, 1)]\n",
        "\n",
        "# Find the shortest path using the A* algorithm\n",
        "path = astar3D(start, goal, obstacles)\n",
        "\n",
        "# Print the path\n",
        "if path is None:\n",
        "    print(\"No path found.\")\n",
        "else:\n",
        "    print(\"Shortest path:\", path)\n",
        "    print(\"length of shortest path\", len(path))\n"
      ],
      "metadata": {
        "colab": {
          "base_uri": "https://localhost:8080/"
        },
        "id": "xWiG-h9sdeXp",
        "outputId": "62ebaef0-4d2c-4a20-b493-af030f0043e2"
      },
      "execution_count": null,
      "outputs": [
        {
          "output_type": "stream",
          "name": "stdout",
          "text": [
            "Shortest path: [(0, 0, 0), (0, 0, 1), (0, 0, 2), (0, 0, 3), (0, 0, 4), (0, 1, 4), (0, 2, 4), (0, 3, 4), (0, 4, 4), (1, 4, 4), (2, 4, 4), (3, 4, 4), (4, 4, 4)]\n",
            "length of shortest path 13\n"
          ]
        }
      ]
    },
    {
      "cell_type": "code",
      "source": [
        "# A* for 2D grid with multiple goals\n",
        "from queue import PriorityQueue\n",
        "\n",
        "def heuristic(point, goals):\n",
        "  heuristic = abs(point[0] - goals[0][0]) + abs(point[1] - goals[0][1])\n",
        "  for i in goals:\n",
        "      heuristic = min(heuristic, abs(point[0] - i[0]) + abs(point[1] - i[1]))\n",
        "  return heuristic    \n",
        "def astar(start, goals, obstacles):\n",
        "    \"\"\"\n",
        "    Returns the shortest path between start and goal on a 2D grid with obstacles using the A* algorithm.\n",
        "    \"\"\"\n",
        "    # Define a heuristic function that estimates the distance from any point to the goal\n",
        "\n",
        "    # Initialize the set of visited points and the priority queue of points to explore\n",
        "    visited = set()\n",
        "    frontier = PriorityQueue()\n",
        "    frontier.put((heuristic(start, goals), start, [], 0))\n",
        "\n",
        "    # Explore the frontier until the goal is reached or no more points can be explored\n",
        "    while not frontier.empty():\n",
        "        # Get the next point to explore\n",
        "        g_value, current, path, f_value = frontier.get()\n",
        "\n",
        "        # Check if the goal has been reached\n",
        "        if current in goals:\n",
        "            return path + [current]\n",
        "\n",
        "        # Check if the current point is an obstacle or has already been visited\n",
        "        if current in visited or current in obstacles:\n",
        "            continue\n",
        "\n",
        "        # Mark the current point as visited\n",
        "        visited.add(current)\n",
        "\n",
        "        # Add the neighbors of the current point to the frontier\n",
        "        for dx, dy in [(0, -1), (0, 1), (-1, 0), (1, 0)]:\n",
        "            neighbor = (current[0] + dx, current[1] + dy)\n",
        "            new_g_value = g_value + 1\n",
        "            if neighbor not in visited:\n",
        "                frontier.put((new_g_value + heuristic(neighbor, goals), neighbor, path + [current], new_g_value))\n",
        "\n",
        "    # Return None if no path is found\n",
        "    return None\n",
        "# Define the start and goal points and the set of obstacles\n",
        "start = (0, 0)\n",
        "goals = [(4, 4), (2,3), (1,3)]\n",
        "obstacles = [(1, 2), (2, 2), (3, 2), (3, 3)]\n",
        "\n",
        "# Find the shortest path using the A* algorithm\n",
        "path = astar(start, goals, obstacles)\n",
        "\n",
        "# Print the path\n",
        "if path is None:\n",
        "    print(\"No path found.\")\n",
        "else:\n",
        "    print(\"Shortest path:\", path)"
      ],
      "metadata": {
        "colab": {
          "base_uri": "https://localhost:8080/"
        },
        "id": "i-OlKCOiK1nw",
        "outputId": "351ed1fe-a2d5-4141-b2a5-3eaf382453cd"
      },
      "execution_count": null,
      "outputs": [
        {
          "output_type": "stream",
          "name": "stdout",
          "text": [
            "Shortest path: [(0, 0), (0, 1), (0, 2), (0, 3), (1, 3)]\n"
          ]
        }
      ]
    },
    {
      "cell_type": "code",
      "source": [
        "# A* for 8 puzzles problem\n",
        "from heapq import heappop, heappush\n",
        "\n",
        "def solve(initial_state, goal_state):\n",
        "    heap = [(heuristic(initial_state), initial_state, [initial_state], 0)]\n",
        "    visited = set()    \n",
        "    while heap:\n",
        "        f_value, current, path, g_value = heappop(heap)\n",
        "        if current == goal_state:\n",
        "            return g_value, current, path\n",
        "        if tuple(map(tuple,current)) in visited:\n",
        "          continue\n",
        "        visited.add(tuple(map(tuple,current)))\n",
        "        for neighbor in neighbors(current):\n",
        "            heappush(heap, (g_value + 1 + heuristic(neighbor), neighbor, path + [neighbor], g_value + 1))\n",
        "    return None, None, None  # no solution found\n",
        "\n",
        "def neighbors(state):\n",
        "    neighbors = []\n",
        "    row, col = next((i, j) for i, row in enumerate(state) for j, val in enumerate(row) if val == 0)\n",
        "    for d_row, d_col in [(0, 1), (0, -1), (1, 0), (-1, 0)]:\n",
        "        new_row, new_col = row + d_row, col + d_col\n",
        "        if 0 <= new_row < 3 and 0 <= new_col < 3:\n",
        "            new_state = [row[:] for row in state]\n",
        "            new_state[row][col], new_state[new_row][new_col] = new_state[new_row][new_col], new_state[row][col]\n",
        "            neighbors.append(new_state)\n",
        "    return neighbors\n",
        "\n",
        "def heuristic(state):\n",
        "    distance = 0\n",
        "    for i in range(3):\n",
        "        for j in range(3):\n",
        "            if state[i][j] != 0:\n",
        "                x, y = divmod(state[i][j]-1, 3)\n",
        "                distance += abs(x-i) + abs(y-j)\n",
        "    return distance\n",
        "\n",
        "def path_to_moves(path):\n",
        "    moves = []\n",
        "    for i in range(len(path) - 1):\n",
        "        current, next = path[i], path[i+1]\n",
        "        for row in range(3):\n",
        "            for col in range(3):\n",
        "                if current[row][col] == 0:\n",
        "                    row1, col1 = row, col\n",
        "                if next[row][col] == 0:\n",
        "                    row2, col2 = row, col\n",
        "        if row1 > row2:\n",
        "            moves.append('up')\n",
        "        elif row1 < row2:\n",
        "            moves.append('down')\n",
        "        elif col1 > col2:\n",
        "            moves.append('left')\n",
        "        elif col1 < col2:\n",
        "            moves.append('right')\n",
        "    return moves\n",
        "\n",
        "goal_state = [[1, 2, 3], [4, 5, 6], [7, 8, 0]]\n",
        "initial_state = [[6, 4, 7], [8, 5, 0], [3, 2, 1]]\n",
        "length, state, path = solve(initial_state, goal_state)\n",
        "if path is not None:\n",
        "  print(\"The number of steps required to reach goal state is: \", len(path)-1)\n",
        "  print(\"The required sequence of steps to reach goal state is: \", *path_to_moves(path))\n",
        "\n",
        "  print(\"The sequence of puzzle states at each step is: \")\n",
        "  for i in path:\n",
        "    for j in range(3):\n",
        "      for k in range(3):\n",
        "        print(i[j][k], end = \" \")\n",
        "      print()\n",
        "    print()\n",
        "else:\n",
        "  print(\"The goal state cannot be reached from this configuration.\")"
      ],
      "metadata": {
        "colab": {
          "base_uri": "https://localhost:8080/"
        },
        "id": "CpbihGSHMsqb",
        "outputId": "2d134bb7-fdaa-477f-94bc-d5dde0953a98"
      },
      "execution_count": null,
      "outputs": [
        {
          "output_type": "stream",
          "name": "stdout",
          "text": [
            "The number of steps required to reach goal state is:  31\n",
            "The required sequence of steps to reach goal state is:  down left left up right up left down right right up left down down left up up right down right down left up right up left down left down right right\n",
            "The sequence of puzzle states at each step is: \n",
            "6 4 7 \n",
            "8 5 0 \n",
            "3 2 1 \n",
            "\n",
            "6 4 7 \n",
            "8 5 1 \n",
            "3 2 0 \n",
            "\n",
            "6 4 7 \n",
            "8 5 1 \n",
            "3 0 2 \n",
            "\n",
            "6 4 7 \n",
            "8 5 1 \n",
            "0 3 2 \n",
            "\n",
            "6 4 7 \n",
            "0 5 1 \n",
            "8 3 2 \n",
            "\n",
            "6 4 7 \n",
            "5 0 1 \n",
            "8 3 2 \n",
            "\n",
            "6 0 7 \n",
            "5 4 1 \n",
            "8 3 2 \n",
            "\n",
            "0 6 7 \n",
            "5 4 1 \n",
            "8 3 2 \n",
            "\n",
            "5 6 7 \n",
            "0 4 1 \n",
            "8 3 2 \n",
            "\n",
            "5 6 7 \n",
            "4 0 1 \n",
            "8 3 2 \n",
            "\n",
            "5 6 7 \n",
            "4 1 0 \n",
            "8 3 2 \n",
            "\n",
            "5 6 0 \n",
            "4 1 7 \n",
            "8 3 2 \n",
            "\n",
            "5 0 6 \n",
            "4 1 7 \n",
            "8 3 2 \n",
            "\n",
            "5 1 6 \n",
            "4 0 7 \n",
            "8 3 2 \n",
            "\n",
            "5 1 6 \n",
            "4 3 7 \n",
            "8 0 2 \n",
            "\n",
            "5 1 6 \n",
            "4 3 7 \n",
            "0 8 2 \n",
            "\n",
            "5 1 6 \n",
            "0 3 7 \n",
            "4 8 2 \n",
            "\n",
            "0 1 6 \n",
            "5 3 7 \n",
            "4 8 2 \n",
            "\n",
            "1 0 6 \n",
            "5 3 7 \n",
            "4 8 2 \n",
            "\n",
            "1 3 6 \n",
            "5 0 7 \n",
            "4 8 2 \n",
            "\n",
            "1 3 6 \n",
            "5 7 0 \n",
            "4 8 2 \n",
            "\n",
            "1 3 6 \n",
            "5 7 2 \n",
            "4 8 0 \n",
            "\n",
            "1 3 6 \n",
            "5 7 2 \n",
            "4 0 8 \n",
            "\n",
            "1 3 6 \n",
            "5 0 2 \n",
            "4 7 8 \n",
            "\n",
            "1 3 6 \n",
            "5 2 0 \n",
            "4 7 8 \n",
            "\n",
            "1 3 0 \n",
            "5 2 6 \n",
            "4 7 8 \n",
            "\n",
            "1 0 3 \n",
            "5 2 6 \n",
            "4 7 8 \n",
            "\n",
            "1 2 3 \n",
            "5 0 6 \n",
            "4 7 8 \n",
            "\n",
            "1 2 3 \n",
            "0 5 6 \n",
            "4 7 8 \n",
            "\n",
            "1 2 3 \n",
            "4 5 6 \n",
            "0 7 8 \n",
            "\n",
            "1 2 3 \n",
            "4 5 6 \n",
            "7 0 8 \n",
            "\n",
            "1 2 3 \n",
            "4 5 6 \n",
            "7 8 0 \n",
            "\n"
          ]
        }
      ]
    }
  ]
}